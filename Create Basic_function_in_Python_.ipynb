{
  "nbformat": 4,
  "nbformat_minor": 0,
  "metadata": {
    "colab": {
      "provenance": [],
      "collapsed_sections": [],
      "authorship_tag": "ABX9TyPamkbm1yKhQ+eT8Uk1IpP8",
      "include_colab_link": true
    },
    "kernelspec": {
      "name": "python3",
      "display_name": "Python 3"
    },
    "language_info": {
      "name": "python"
    }
  },
  "cells": [
    {
      "cell_type": "markdown",
      "metadata": {
        "id": "view-in-github",
        "colab_type": "text"
      },
      "source": [
        "<a href=\"https://colab.research.google.com/github/EGjika/Python-on-Production/blob/main/Create%20Basic_function_in_Python_.ipynb\" target=\"_parent\"><img src=\"https://colab.research.google.com/assets/colab-badge.svg\" alt=\"Open In Colab\"/></a>"
      ]
    },
    {
      "cell_type": "markdown",
      "source": [
        "**Vectors and NumPy**\n",
        "\n",
        "Let create two vectors in Python. "
      ],
      "metadata": {
        "id": "r-dHTg3DtLQW"
      }
    },
    {
      "cell_type": "code",
      "source": [
        "import numpy as np\n",
        "vec_1 = np.array([-12.0, 16.9, 21.37, 40,23,100.02])\n",
        "print(vec_1)\n",
        "vec_2 = np.array([-18.33, -39.64, -47.77,45, 76,98])\n",
        "print(vec_2)\n",
        "len(vec_1)==len(vec_2) # do the vectors have the same dimenssion\n"
      ],
      "metadata": {
        "colab": {
          "base_uri": "https://localhost:8080/"
        },
        "id": "_-k7gmSdtKR3",
        "outputId": "1e50379b-ba4b-401a-99d0-526ee5f22c10"
      },
      "execution_count": 2,
      "outputs": [
        {
          "output_type": "stream",
          "name": "stdout",
          "text": [
            "[-12.    16.9   21.37  40.    23.   100.02]\n",
            "[-18.33 -39.64 -47.77  45.    76.    98.  ]\n"
          ]
        },
        {
          "output_type": "execute_result",
          "data": {
            "text/plain": [
              "True"
            ]
          },
          "metadata": {},
          "execution_count": 2
        }
      ]
    },
    {
      "cell_type": "markdown",
      "source": [
        "The basic syntax in Python to create a function is as below:\n",
        "\n",
        "\n",
        "    def my_first_function():\n",
        "    print(\"My first function\") *italicized text*\n",
        "    my_first_function()"
      ],
      "metadata": {
        "id": "h6duE_kKuMAe"
      }
    },
    {
      "cell_type": "code",
      "source": [],
      "metadata": {
        "id": "kj9b9Rb-vtDy"
      },
      "execution_count": null,
      "outputs": []
    },
    {
      "cell_type": "markdown",
      "source": [
        "Let's try to create a very simple function like the one to obtain the sum of two numbers. So here again we put attention to the fact that you may use many arguments inside of your function!"
      ],
      "metadata": {
        "id": "2zqBvA7pvH2Z"
      }
    },
    {
      "cell_type": "markdown",
      "source": [
        "**Example 1 The sum function**"
      ],
      "metadata": {
        "id": "kYjUuTsvvquZ"
      }
    },
    {
      "cell_type": "code",
      "source": [
        "def sum_num(n_1, n_2):\n",
        "    print(n_1 + n_2)\n",
        "sum_num(12, 5)"
      ],
      "metadata": {
        "colab": {
          "base_uri": "https://localhost:8080/"
        },
        "id": "FqW8Ut_NudGj",
        "outputId": "136da0c2-3ae6-4181-bb97-d4a543207285"
      },
      "execution_count": 8,
      "outputs": [
        {
          "output_type": "stream",
          "name": "stdout",
          "text": [
            "17\n"
          ]
        }
      ]
    },
    {
      "cell_type": "markdown",
      "source": [
        "**Example 2    The quadratic function:**"
      ],
      "metadata": {
        "id": "Cfm1y-wgvk47"
      }
    },
    {
      "cell_type": "code",
      "source": [
        "def power_2(x):\n",
        "    print(x^2)\n",
        "power_2(12)"
      ],
      "metadata": {
        "colab": {
          "base_uri": "https://localhost:8080/"
        },
        "id": "fXBaED_rtcBt",
        "outputId": "35d117ef-a41b-42da-cb9b-36baac6fab81"
      },
      "execution_count": 10,
      "outputs": [
        {
          "output_type": "stream",
          "name": "stdout",
          "text": [
            "14\n"
          ]
        }
      ]
    },
    {
      "cell_type": "markdown",
      "source": [
        "**3.Example   A function for array**\n",
        "\n",
        "If we have a vector (array) we may use the function with some changes to fit the object array. Below is constructed a function which calculates the sum of elements in an array.\n",
        "\n"
      ],
      "metadata": {
        "id": "z1-gD2jW0EX1"
      }
    },
    {
      "cell_type": "code",
      "source": [
        "def sum_num(x: np.ndarray):\n",
        "    val=0\n",
        "    for x_i in x:\n",
        "      val+=x_i\n",
        "    return val"
      ],
      "metadata": {
        "id": "D9zEXC33zs16"
      },
      "execution_count": 38,
      "outputs": []
    },
    {
      "cell_type": "code",
      "source": [
        "sum_num(my_array)"
      ],
      "metadata": {
        "colab": {
          "base_uri": "https://localhost:8080/"
        },
        "id": "GZYYMBRTzx_G",
        "outputId": "ad3e3ad6-bb8b-4540-fbf4-e75ad6ea6a90"
      },
      "execution_count": 39,
      "outputs": [
        {
          "output_type": "execute_result",
          "data": {
            "text/plain": [
              "11.934151352869929"
            ]
          },
          "metadata": {},
          "execution_count": 39
        }
      ]
    },
    {
      "cell_type": "markdown",
      "source": [
        "Let's check the results with functions in python."
      ],
      "metadata": {
        "id": "TzswO53X1eku"
      }
    },
    {
      "cell_type": "code",
      "source": [
        "sum(my_array)"
      ],
      "metadata": {
        "colab": {
          "base_uri": "https://localhost:8080/"
        },
        "id": "Tr4A9WSN1cBW",
        "outputId": "c4d2a135-e8d0-45c8-9b93-4eee31472e00"
      },
      "execution_count": 46,
      "outputs": [
        {
          "output_type": "execute_result",
          "data": {
            "text/plain": [
              "11.934151352869929"
            ]
          },
          "metadata": {},
          "execution_count": 46
        }
      ]
    },
    {
      "cell_type": "code",
      "source": [
        "np.sum(my_array)\n"
      ],
      "metadata": {
        "colab": {
          "base_uri": "https://localhost:8080/"
        },
        "id": "aCOfHYI71se3",
        "outputId": "25f352d4-0165-4eed-a54e-a6803d414388"
      },
      "execution_count": 47,
      "outputs": [
        {
          "output_type": "execute_result",
          "data": {
            "text/plain": [
              "11.93415135286993"
            ]
          },
          "metadata": {},
          "execution_count": 47
        }
      ]
    },
    {
      "cell_type": "markdown",
      "source": [
        "What about the production function?"
      ],
      "metadata": {
        "id": "zgIztrkS15sG"
      }
    },
    {
      "cell_type": "code",
      "source": [
        "np.prod(my_array)\n"
      ],
      "metadata": {
        "colab": {
          "base_uri": "https://localhost:8080/"
        },
        "id": "JewSSBdn1vrS",
        "outputId": "3fda2ce0-84df-46f4-8f49-a9a24fbebed2"
      },
      "execution_count": 49,
      "outputs": [
        {
          "output_type": "execute_result",
          "data": {
            "text/plain": [
              "5.580046752304663e-07"
            ]
          },
          "metadata": {},
          "execution_count": 49
        }
      ]
    },
    {
      "cell_type": "code",
      "source": [
        "def prod_num(x: np.ndarray):\n",
        "    val=0\n",
        "    for x_i in x:\n",
        "      val*=x_i\n",
        "    return val"
      ],
      "metadata": {
        "id": "0lXW050h1_jD"
      },
      "execution_count": 51,
      "outputs": []
    },
    {
      "cell_type": "code",
      "source": [
        "prod_num(my_array)"
      ],
      "metadata": {
        "colab": {
          "base_uri": "https://localhost:8080/"
        },
        "id": "EAHqSHe_2D1b",
        "outputId": "378d724a-f5f4-4755-8f8c-d4aa6a749fea"
      },
      "execution_count": 52,
      "outputs": [
        {
          "output_type": "execute_result",
          "data": {
            "text/plain": [
              "0.0"
            ]
          },
          "metadata": {},
          "execution_count": 52
        }
      ]
    },
    {
      "cell_type": "markdown",
      "source": [
        "**4.Example   A function for array**\n",
        "\n",
        "Below is constructed a function which calculates the quadratic of elements in an array.\n"
      ],
      "metadata": {
        "id": "-R4gswF-0dC3"
      }
    },
    {
      "cell_type": "code",
      "source": [
        "def power_2_array(x: np.ndarray):\n",
        "    x_2 = np.empty_like(x)\n",
        "    for i in range(len(x)):\n",
        "        x_2[i] = x[i]*x[i]\n",
        "    return x_2"
      ],
      "metadata": {
        "id": "9P5GgMmL0kzI"
      },
      "execution_count": 44,
      "outputs": []
    },
    {
      "cell_type": "code",
      "source": [
        "power_2_array(my_array)"
      ],
      "metadata": {
        "colab": {
          "base_uri": "https://localhost:8080/"
        },
        "id": "X-ZXsLL20vP_",
        "outputId": "b2a51e71-84a5-4181-fc20-337a0c2e821f"
      },
      "execution_count": 45,
      "outputs": [
        {
          "output_type": "execute_result",
          "data": {
            "text/plain": [
              "array([0.56304785, 0.53817086, 0.01209179, 0.58764829, 0.01748009,\n",
              "       0.62288989, 0.83968173, 0.8882726 , 0.50762697, 0.73173954,\n",
              "       0.1713205 , 0.00501809, 0.38482557, 0.13516471, 0.13253714,\n",
              "       0.68325904, 0.70540024, 0.05612971, 0.6582516 , 0.45422022])"
            ]
          },
          "metadata": {},
          "execution_count": 45
        }
      ]
    },
    {
      "cell_type": "markdown",
      "source": [
        "What if we are considering two vectors together and we are interested in obtainin the production element per element."
      ],
      "metadata": {
        "id": "A5ZIKWKL3mbs"
      }
    },
    {
      "cell_type": "code",
      "source": [
        "def vec_prod(x: np.ndarray, y: np.ndarray):\n",
        "    return(np.sum(x*y))\n"
      ],
      "metadata": {
        "id": "fnjcs5WZ3leI"
      },
      "execution_count": 65,
      "outputs": []
    },
    {
      "cell_type": "code",
      "source": [
        "vec_prod(vec_1,vec_2)\n"
      ],
      "metadata": {
        "colab": {
          "base_uri": "https://localhost:8080/"
        },
        "id": "eJZkg3fK4O1M",
        "outputId": "3e609bf5-dac9-455f-ce3a-a8e7a399ea30"
      },
      "execution_count": 66,
      "outputs": [
        {
          "output_type": "execute_result",
          "data": {
            "text/plain": [
              "11879.159099999999"
            ]
          },
          "metadata": {},
          "execution_count": 66
        }
      ]
    },
    {
      "cell_type": "code",
      "source": [
        "# you may also try vec_1*vec_2 and then combine it with the sum function.\n",
        "print(sum(vec_1*vec_2))"
      ],
      "metadata": {
        "colab": {
          "base_uri": "https://localhost:8080/"
        },
        "id": "6zex-Rxj5DrM",
        "outputId": "4ddf7921-8013-45b6-993f-d687b42622c2"
      },
      "execution_count": 68,
      "outputs": [
        {
          "output_type": "stream",
          "name": "stdout",
          "text": [
            "11879.159099999999\n"
          ]
        }
      ]
    },
    {
      "cell_type": "markdown",
      "source": [
        "*Give a try if you have vectors/arrays of different length. Will it give you a result? What do you think? Do you believe now in the power of Python? 🧑*"
      ],
      "metadata": {
        "id": "0UroI6Wf4k-n"
      }
    },
    {
      "cell_type": "markdown",
      "source": [
        "In python as in any other programming language we have basic existing mathematical functions which are in ***math*** library. Try to create your own exponential function and compare the result.\n"
      ],
      "metadata": {
        "id": "gVgj9Jp8v96o"
      }
    },
    {
      "cell_type": "code",
      "source": [
        "from math import exp\n",
        "exp(3)"
      ],
      "metadata": {
        "colab": {
          "base_uri": "https://localhost:8080/"
        },
        "id": "4M8oOLqBwndc",
        "outputId": "262577b9-1797-4889-cd8c-1182128b0b51"
      },
      "execution_count": 30,
      "outputs": [
        {
          "output_type": "execute_result",
          "data": {
            "text/plain": [
              "20.085536923187668"
            ]
          },
          "metadata": {},
          "execution_count": 30
        }
      ]
    },
    {
      "cell_type": "markdown",
      "source": [
        "**5.Example   Euclidean norm for a vector** \n",
        "we all have used the famous Euclidean distance . Let's create a function for it and compare it with the results from existing functions in Python."
      ],
      "metadata": {
        "id": "opIp9XML2bYf"
      }
    },
    {
      "cell_type": "code",
      "source": [
        "def euclid_norm(x: np.ndarray):\n",
        "  return np.sqrt(np.sum(x**2))\n"
      ],
      "metadata": {
        "id": "vVaT-de0zX9X"
      },
      "execution_count": 57,
      "outputs": []
    },
    {
      "cell_type": "code",
      "source": [
        "euclid_norm(my_array)"
      ],
      "metadata": {
        "colab": {
          "base_uri": "https://localhost:8080/"
        },
        "id": "ih3qM_3o2ogA",
        "outputId": "e71865ad-74f8-48a4-b36f-06186640ac74"
      },
      "execution_count": 58,
      "outputs": [
        {
          "output_type": "execute_result",
          "data": {
            "text/plain": [
              "2.948690629359488"
            ]
          },
          "metadata": {},
          "execution_count": 58
        }
      ]
    },
    {
      "cell_type": "code",
      "source": [
        "euclidean_norm(my_array)\n"
      ],
      "metadata": {
        "colab": {
          "base_uri": "https://localhost:8080/"
        },
        "id": "vVZRIrrr20Si",
        "outputId": "3ade682a-7a34-4f3f-c076-6a4042eb65bc"
      },
      "execution_count": 59,
      "outputs": [
        {
          "output_type": "execute_result",
          "data": {
            "text/plain": [
              "2.948690629359488"
            ]
          },
          "metadata": {},
          "execution_count": 59
        }
      ]
    }
  ]
}