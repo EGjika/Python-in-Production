{
  "nbformat": 4,
  "nbformat_minor": 0,
  "metadata": {
    "colab": {
      "provenance": [],
      "authorship_tag": "ABX9TyPXc+BTdf+yo331iMY34PpM",
      "include_colab_link": true
    },
    "kernelspec": {
      "name": "python3",
      "display_name": "Python 3"
    },
    "language_info": {
      "name": "python"
    }
  },
  "cells": [
    {
      "cell_type": "markdown",
      "metadata": {
        "id": "view-in-github",
        "colab_type": "text"
      },
      "source": [
        "<a href=\"https://colab.research.google.com/github/EGjika/Python-on-Production/blob/main/Algebra_in_Python_.ipynb\" target=\"_parent\"><img src=\"https://colab.research.google.com/assets/colab-badge.svg\" alt=\"Open In Colab\"/></a>"
      ]
    },
    {
      "cell_type": "markdown",
      "source": [
        "**Vectors and NumPy**\n",
        "\n",
        "Let create two vectors in Python. "
      ],
      "metadata": {
        "id": "r-dHTg3DtLQW"
      }
    },
    {
      "cell_type": "code",
      "source": [
        "import numpy as np\n",
        "vec_1 = np.array([-12.0, 16.9, 21.37, 40,23,100.02])\n",
        "print(vec_1)\n",
        "vec_2 = np.array([-18.33, -39.64, -47.77,45, 76,98])\n",
        "print(vec_2)\n",
        "len(vec_1)==len(vec_2) # do the vectors have the same dimenssion\n"
      ],
      "metadata": {
        "colab": {
          "base_uri": "https://localhost:8080/"
        },
        "id": "_-k7gmSdtKR3",
        "outputId": "1e50379b-ba4b-401a-99d0-526ee5f22c10"
      },
      "execution_count": 2,
      "outputs": [
        {
          "output_type": "stream",
          "name": "stdout",
          "text": [
            "[-12.    16.9   21.37  40.    23.   100.02]\n",
            "[-18.33 -39.64 -47.77  45.    76.    98.  ]\n"
          ]
        },
        {
          "output_type": "execute_result",
          "data": {
            "text/plain": [
              "True"
            ]
          },
          "metadata": {},
          "execution_count": 2
        }
      ]
    },
    {
      "cell_type": "markdown",
      "source": [
        "The basic syntax in Python to create a function is as below:\n",
        "\n",
        "\n",
        "    def my_first_function():\n",
        "    print(\"My first function\") *italicized text*\n",
        "    my_first_function()"
      ],
      "metadata": {
        "id": "h6duE_kKuMAe"
      }
    },
    {
      "cell_type": "code",
      "source": [],
      "metadata": {
        "id": "FqW8Ut_NudGj"
      },
      "execution_count": null,
      "outputs": []
    },
    {
      "cell_type": "code",
      "source": [
        "def just_a_quadratic_polynomial(x):\n",
        "3*x**2 + 1\n",
        "just_a_quadratic_polynomial(x)"
      ],
      "metadata": {
        "colab": {
          "base_uri": "https://localhost:8080/",
          "height": 130
        },
        "id": "fXBaED_rtcBt",
        "outputId": "d884513a-465c-4a74-a715-7987c03a7088"
      },
      "execution_count": 6,
      "outputs": [
        {
          "output_type": "error",
          "ename": "IndentationError",
          "evalue": "ignored",
          "traceback": [
            "\u001b[0;36m  File \u001b[0;32m\"<ipython-input-6-3f203afed87a>\"\u001b[0;36m, line \u001b[0;32m2\u001b[0m\n\u001b[0;31m    3*x**2 + 1\u001b[0m\n\u001b[0m    ^\u001b[0m\n\u001b[0;31mIndentationError\u001b[0m\u001b[0;31m:\u001b[0m expected an indented block\n"
          ]
        }
      ]
    }
  ]
}