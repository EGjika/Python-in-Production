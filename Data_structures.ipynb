{
  "nbformat": 4,
  "nbformat_minor": 0,
  "metadata": {
    "colab": {
      "provenance": [],
      "collapsed_sections": []
    },
    "kernelspec": {
      "name": "python3",
      "display_name": "Python 3"
    },
    "language_info": {
      "name": "python"
    }
  },
  "cells": [
    {
      "cell_type": "markdown",
      "source": [
        "**Data Structures**\n",
        "\n",
        "**1. Tuple**\n",
        "\n",
        "In standard Python the main data structures used to represent vectors are: tuples and lists. \n",
        "What a tuple is? A tuple may be defined by enumerating it's elements between two parentheses, separating them with commas. A single tuple can hold elements of various types."
      ],
      "metadata": {
        "id": "bAjpNJw7a8v-"
      }
    },
    {
      "cell_type": "code",
      "execution_count": 1,
      "metadata": {
        "colab": {
          "base_uri": "https://localhost:8080/"
        },
        "id": "CZUR77upa4dq",
        "outputId": "f956dfe9-6826-4fb8-c036-d84e51ade31c"
      },
      "outputs": [
        {
          "output_type": "stream",
          "name": "stdout",
          "text": [
            "(-1, 8, 9, 12.2, 41, 'something here', 100)\n"
          ]
        }
      ],
      "source": [
        "vec_tuple = (-1, 8,9,12.2,41, \"something here\", 100)\n",
        "print(vec_tuple)"
      ]
    },
    {
      "cell_type": "markdown",
      "source": [
        "We can access the elements of a tuple by indexing, using square brakets. [ ].\n",
        "\n",
        "**Attention**: in Python indexing starts from 0 so, our element at position 2 will be the 3rd element. \n",
        "\n",
        "But what if we want to access more than only one element? We way use the sequence function : \n",
        " \n"
      ],
      "metadata": {
        "id": "unMoh5ZFb5mW"
      }
    },
    {
      "cell_type": "code",
      "source": [
        "print(vec_tuple[2])\n",
        "print(vec_tuple[1:3])\n",
        "print(vec_tuple[1:4:1])# it has the logic   start:to:step  pay attention that slice indices must be integers"
      ],
      "metadata": {
        "colab": {
          "base_uri": "https://localhost:8080/"
        },
        "id": "49N18Wihb98k",
        "outputId": "d3c71793-2337-4864-a9c6-b9b375bd5b32"
      },
      "execution_count": 9,
      "outputs": [
        {
          "output_type": "stream",
          "name": "stdout",
          "text": [
            "9\n",
            "(8, 9)\n",
            "(8, 9, 12.2)\n"
          ]
        }
      ]
    },
    {
      "cell_type": "markdown",
      "source": [
        "The number of elements in a tuple can be accessed by calling the built-in *len( )* function.\n",
        "\n"
      ],
      "metadata": {
        "id": "C_wMJNxef8Ez"
      }
    },
    {
      "cell_type": "code",
      "source": [
        "len(vec_tuple)"
      ],
      "metadata": {
        "colab": {
          "base_uri": "https://localhost:8080/"
        },
        "id": "hBG-CjeRgCGI",
        "outputId": "6f11c800-c175-4b1c-bd40-0d8325092e41"
      },
      "execution_count": 10,
      "outputs": [
        {
          "output_type": "execute_result",
          "data": {
            "text/plain": [
              "7"
            ]
          },
          "metadata": {},
          "execution_count": 10
        }
      ]
    },
    {
      "cell_type": "markdown",
      "source": [
        "**2. Lists**\n",
        "\n",
        "Lists are extremely flexible and easy to use. We creat e alist in python using the syntax *name_list=[ ]*"
      ],
      "metadata": {
        "id": "hg05KHnYhYei"
      }
    },
    {
      "cell_type": "code",
      "source": [
        "mylist_list=[2,3,4,3,2,12,3,\"city\"]\n",
        "print(mylist_list)# thsi will print our list\n",
        "type(mylist_list) # this will return teh type of our object\n"
      ],
      "metadata": {
        "colab": {
          "base_uri": "https://localhost:8080/"
        },
        "id": "efHP8Yiphlxo",
        "outputId": "27f933ce-4f08-4b75-9915-ea16393aeed3"
      },
      "execution_count": 14,
      "outputs": [
        {
          "output_type": "stream",
          "name": "stdout",
          "text": [
            "[2, 3, 4, 3, 2, 12, 3, 'city']\n"
          ]
        },
        {
          "output_type": "execute_result",
          "data": {
            "text/plain": [
              "list"
            ]
          },
          "metadata": {},
          "execution_count": 14
        }
      ]
    },
    {
      "cell_type": "markdown",
      "source": [
        "What if we want to access elements on our list. Same as in tuple we use [ ]. We may add, remove elements from our list by using functions such as: append ,pop "
      ],
      "metadata": {
        "id": "qMwWBneriEAb"
      }
    },
    {
      "cell_type": "code",
      "source": [
        "print(mylist_list[3])# print the 4th element in my list\n",
        "print(mylist_list[3]==\"Alda\")# check the value of the 4th element if it is \"Alda\". True or False will be returned\n",
        "mylist_list[3]=1000 # change the value of the 4th element to a value of 1000. \n",
        "print(mylist_list)"
      ],
      "metadata": {
        "colab": {
          "base_uri": "https://localhost:8080/"
        },
        "id": "fintA2RTiKJs",
        "outputId": "eefed6cb-8af9-4f4d-b205-16c3474ed571"
      },
      "execution_count": 23,
      "outputs": [
        {
          "output_type": "stream",
          "name": "stdout",
          "text": [
            "1000\n",
            "False\n",
            "[2, 3, 4, 1000, 2, 12, 3, 'city', ['country']]\n"
          ]
        }
      ]
    },
    {
      "cell_type": "markdown",
      "source": [
        "What if I want to add a new list to my existing list? Or to remove an element?"
      ],
      "metadata": {
        "id": "3RAJB4SKi1kh"
      }
    },
    {
      "cell_type": "code",
      "source": [
        "mylist_list.append([\"country\"]) # adding the list [country] to the end of our list\n",
        "print(mylist_list)\n",
        "\n",
        "mylist_list.pop(1) # removing the element at the index \"1\"\n",
        "print(mylist_list)\n",
        "\n"
      ],
      "metadata": {
        "colab": {
          "base_uri": "https://localhost:8080/"
        },
        "id": "7lpuzrb9i01g",
        "outputId": "cde8c35c-77fb-4104-c0d1-461712486476"
      },
      "execution_count": 24,
      "outputs": [
        {
          "output_type": "stream",
          "name": "stdout",
          "text": [
            "[2, 3, 4, 1000, 2, 12, 3, 'city', ['country'], ['country']]\n",
            "[2, 4, 1000, 2, 12, 3, 'city', ['country'], ['country']]\n"
          ]
        }
      ]
    },
    {
      "cell_type": "markdown",
      "source": [
        "**3. Arrays and NumPy **\n",
        "\n",
        "First, we import the *numpy* library. (To save on the characters, it is customary to import it as np.)\n"
      ],
      "metadata": {
        "id": "68VzCSilkEPc"
      }
    },
    {
      "cell_type": "code",
      "source": [
        "import numpy as np\n",
        "X_array = np.array([23.7, 114.5, -24.7, 52.1423, -13.64, 8.0001]) # creating a NumPy array from a Python list\n",
        "print(X_array)\n"
      ],
      "metadata": {
        "colab": {
          "base_uri": "https://localhost:8080/"
        },
        "id": "FnKxtucZkVt_",
        "outputId": "b5118711-1a6a-4b63-e7c6-5afc3b4a7c39"
      },
      "execution_count": 25,
      "outputs": [
        {
          "output_type": "stream",
          "name": "stdout",
          "text": [
            "[ 23.7    114.5    -24.7     52.1423 -13.64     8.0001]\n"
          ]
        }
      ]
    },
    {
      "cell_type": "markdown",
      "source": [
        "If we want to initialize an array in python from 0 or 1 we use the following functions respectively:"
      ],
      "metadata": {
        "id": "F3HhEscXkuPM"
      }
    },
    {
      "cell_type": "code",
      "source": [
        "np.ones(shape=10) # initializing a NumPy array from scratch using ones with length 10"
      ],
      "metadata": {
        "colab": {
          "base_uri": "https://localhost:8080/"
        },
        "id": "y12E7vqKk0wp",
        "outputId": "ca42dd40-7ba5-491d-e0d5-097d4a8ee88f"
      },
      "execution_count": 31,
      "outputs": [
        {
          "output_type": "execute_result",
          "data": {
            "text/plain": [
              "array([1., 1., 1., 1., 1., 1., 1., 1., 1., 1.])"
            ]
          },
          "metadata": {},
          "execution_count": 31
        }
      ]
    },
    {
      "cell_type": "code",
      "source": [
        "np.zeros(shape=10)# initializing a NumPy array from scratch using zeros with length 10"
      ],
      "metadata": {
        "colab": {
          "base_uri": "https://localhost:8080/"
        },
        "id": "2Yb3QM-2lEAz",
        "outputId": "36502df5-f858-4beb-a241-214bb839634b"
      },
      "execution_count": 32,
      "outputs": [
        {
          "output_type": "execute_result",
          "data": {
            "text/plain": [
              "array([0., 0., 0., 0., 0., 0., 0., 0., 0., 0.])"
            ]
          },
          "metadata": {},
          "execution_count": 32
        }
      ]
    },
    {
      "cell_type": "markdown",
      "source": [
        "We can even initialize NumPy arrays using random numbers. Since they are random we will have different results every time we run the code unless we save the result as an object."
      ],
      "metadata": {
        "id": "quvVFlnKlU9j"
      }
    },
    {
      "cell_type": "code",
      "source": [
        "print(np.random.rand(20))\n",
        "my_array=np.random.rand(20)# create an array and save it as my_array\n",
        "print(my_array)# print the result\n",
        "type(my_array)"
      ],
      "metadata": {
        "colab": {
          "base_uri": "https://localhost:8080/"
        },
        "id": "j2GXb7IqlTnu",
        "outputId": "09d49026-4062-491e-d669-5a4a3c91cb96"
      },
      "execution_count": 41,
      "outputs": [
        {
          "output_type": "stream",
          "name": "stdout",
          "text": [
            "[0.15921256 0.11933821 0.45101546 0.67906976 0.23490699 0.5519705\n",
            " 0.86650291 0.49286486 0.37460128 0.60154512 0.89233479 0.68173552\n",
            " 0.61228763 0.09716854 0.16087454 0.71346262 0.10405685 0.62797829\n",
            " 0.95065    0.02204558]\n",
            "[0.99067405 0.05865646 0.48878197 0.59815275 0.70084361 0.19151317\n",
            " 0.94468597 0.87900856 0.94559402 0.51015539 0.06789301 0.1106832\n",
            " 0.84699156 0.01425649 0.73826039 0.00993075 0.72839227 0.07304864\n",
            " 0.8218333  0.31740198]\n"
          ]
        },
        {
          "output_type": "execute_result",
          "data": {
            "text/plain": [
              "numpy.ndarray"
            ]
          },
          "metadata": {},
          "execution_count": 41
        }
      ]
    },
    {
      "cell_type": "markdown",
      "source": [
        "What if we want to initialize an array with same dimensions as an existing one? There are three main options using: *np.zeros_like, np.ones_like, and np.empty_like* functions. "
      ],
      "metadata": {
        "id": "5LbsGBK4l1IC"
      }
    },
    {
      "cell_type": "code",
      "source": [
        "print(np.zeros_like(my_array))\n",
        "print(np.ones_like(my_array))\n",
        "print(np.empty_like(my_array))"
      ],
      "metadata": {
        "colab": {
          "base_uri": "https://localhost:8080/"
        },
        "id": "Ei4o4UnsmDGs",
        "outputId": "b768333b-e4db-46d6-f6c7-1e446be542ac"
      },
      "execution_count": 36,
      "outputs": [
        {
          "output_type": "stream",
          "name": "stdout",
          "text": [
            "[0. 0. 0. 0. 0. 0. 0. 0. 0. 0. 0. 0. 0. 0. 0. 0. 0. 0. 0. 0.]\n",
            "[1. 1. 1. 1. 1. 1. 1. 1. 1. 1. 1. 1. 1. 1. 1. 1. 1. 1. 1. 1.]\n",
            "[1. 1. 1. 1. 1. 1. 1. 1. 1. 1. 1. 1. 1. 1. 1. 1. 1. 1. 1. 1.]\n"
          ]
        }
      ]
    },
    {
      "cell_type": "code",
      "source": [
        "print(my_array[3])# print the 4th element \n",
        "print(my_array[1:5])# print elements from 2nd to 6th"
      ],
      "metadata": {
        "colab": {
          "base_uri": "https://localhost:8080/"
        },
        "id": "zyViKoC-m62T",
        "outputId": "7dad067f-bec1-45d2-d8f6-eab42fff0cc0"
      },
      "execution_count": 44,
      "outputs": [
        {
          "output_type": "stream",
          "name": "stdout",
          "text": [
            "0.5981527506130188\n",
            "[0.05865646 0.48878197 0.59815275 0.70084361]\n"
          ]
        }
      ]
    },
    {
      "cell_type": "code",
      "source": [
        "my_array[1]=10000 # substitute a value with a new one\n",
        "print(my_array)"
      ],
      "metadata": {
        "colab": {
          "base_uri": "https://localhost:8080/"
        },
        "id": "cX0-fyTDn3zu",
        "outputId": "f4a0a513-a96d-496a-a536-2eb9b2c644c6"
      },
      "execution_count": 47,
      "outputs": [
        {
          "output_type": "stream",
          "name": "stdout",
          "text": [
            "[9.90674046e-01 1.00000000e+04 4.88781970e-01 1.00000000e+04\n",
            " 7.00843613e-01 1.91513169e-01 9.44685969e-01 8.79008565e-01\n",
            " 9.45594018e-01 5.10155386e-01 6.78930117e-02 1.10683196e-01\n",
            " 8.46991562e-01 1.42564880e-02 7.38260389e-01 9.93075343e-03\n",
            " 7.28392271e-01 7.30486387e-02 8.21833298e-01 3.17401977e-01]\n"
          ]
        }
      ]
    },
    {
      "cell_type": "markdown",
      "source": [
        "**4. Vectors and NumPy**\n",
        "\n",
        "Now let's focus on how we create vectors in python using the function *np.array()*."
      ],
      "metadata": {
        "id": "vzFpACWKoEnx"
      }
    },
    {
      "cell_type": "code",
      "source": [
        "vec_1 = np.array([-12.0, 16.9, 21.37, 40,23,100.02])\n",
        "print(vec_1)\n",
        "vec_2 = np.array([-18.33, -39.64, -47.77,45, 76,98])\n",
        "print(vec_2)\n",
        "len(vec_1)==len(vec_2) # do the vectors have the same dimenssion\n"
      ],
      "metadata": {
        "colab": {
          "base_uri": "https://localhost:8080/"
        },
        "id": "Flv-OvsUoRb1",
        "outputId": "ad0c671e-33f9-4037-ec44-f5cc2df28c9b"
      },
      "execution_count": 57,
      "outputs": [
        {
          "output_type": "stream",
          "name": "stdout",
          "text": [
            "[-12.    16.9   21.37  40.    23.   100.02]\n",
            "[-18.33 -39.64 -47.77  45.    76.    98.  ]\n"
          ]
        },
        {
          "output_type": "execute_result",
          "data": {
            "text/plain": [
              "True"
            ]
          },
          "metadata": {},
          "execution_count": 57
        }
      ]
    },
    {
      "cell_type": "markdown",
      "source": [
        "Can we do basic mathematical operations with vectors? Of course, just pay attention they are done at this step element per element."
      ],
      "metadata": {
        "id": "Fi2NyqoGosmp"
      }
    },
    {
      "cell_type": "code",
      "source": [
        "print(vec_1 + vec_2) \n",
        "print(3*vec_2)\n",
        "print(vec_1*3+vec_2/5)\n"
      ],
      "metadata": {
        "colab": {
          "base_uri": "https://localhost:8080/"
        },
        "id": "s5Hbjf4vo0tT",
        "outputId": "fcaaedb9-7cfe-43fc-b65c-4f9a2241faa2"
      },
      "execution_count": 56,
      "outputs": [
        {
          "output_type": "stream",
          "name": "stdout",
          "text": [
            "[-30.33 -22.74 -26.4   85.    99.   198.02]\n",
            "[ -54.99 -118.92 -143.31  135.    228.    294.  ]\n",
            "[-39.666  42.772  54.556 129.     84.2   319.66 ]\n"
          ]
        }
      ]
    },
    {
      "cell_type": "markdown",
      "source": [
        "Now you know how to create and manipulate with tuples, list, arrays and vectors in Python!"
      ],
      "metadata": {
        "id": "NMUKNJT2putQ"
      }
    }
  ]
}